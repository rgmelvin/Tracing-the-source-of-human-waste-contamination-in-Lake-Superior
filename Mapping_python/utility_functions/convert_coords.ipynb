{
 "cells": [
  {
   "cell_type": "markdown",
   "metadata": {},
   "source": [
    "## Longitude/ Latitude utility\n",
    "\n",
    "Utility functions for converting geopositional coordinates:\n",
    "1. DMStoDec(degrees, minutes, seconds): from degrees, minutes, seconds to decimal format.\n",
    "2. DectoDMS(dec_coord): from decimal to degrees, minutes, seconds format.\n",
    "\n"
   ]
  },
  {
   "cell_type": "code",
   "execution_count": 27,
   "metadata": {},
   "outputs": [],
   "source": [
    "# functions that convert geospatial coordiant formats.\n",
    "\n",
    "def DMStoDec(degrees, minutes, seconds):\n",
    "    \"\"\" Takes the geo position in degrees, minutes seconds and \n",
    "    Returns geo position in decimal format.\n",
    "    \"\"\"\n",
    "    return degrees + (minutes/60) + (seconds/3600)\n",
    "\n",
    "def DectoDMS(dec_coord):\n",
    "    \"\"\"Takes the geo position in decimal format and returns\n",
    "    geo position in degrees: minutes: seconds. This is\n",
    "    more complicated than DMStoDec\n",
    "    1. Degrees = the whole number part of the decimal.\n",
    "    2. Minutes = the whole number part of the remainder multiplied by 60.\n",
    "    3. Seconds = the whole number part from step 2 multiplied by 60.\n",
    "    Returns geo position in Deg, Min, Sec separated by commas.\"\"\"\n",
    "    import math\n",
    "    frac, whole = math.modf(dec_coord)\n",
    "    D = int(whole)\n",
    "    M = int((frac * 60) - (frac *60) % 1)\n",
    "    S = round(((frac * 60) - M) * 60)\n",
    "\n",
    "    if dec_coord < 0:\n",
    "        return f'{D} degrees, {M * (-1)} minutes, {S} seconds'\n",
    "    \n",
    "    return f\"{D} degrees, {M} minutes, {S} seconds\"\n",
    "    "
   ]
  },
  {
   "cell_type": "code",
   "execution_count": null,
   "metadata": {},
   "outputs": [],
   "source": []
  }
 ],
 "metadata": {
  "kernelspec": {
   "display_name": "Python 3 (ipykernel)",
   "language": "python",
   "name": "python3"
  },
  "language_info": {
   "codemirror_mode": {
    "name": "ipython",
    "version": 3
   },
   "file_extension": ".py",
   "mimetype": "text/x-python",
   "name": "python",
   "nbconvert_exporter": "python",
   "pygments_lexer": "ipython3",
   "version": "3.9.7"
  },
  "vscode": {
   "interpreter": {
    "hash": "aee8b7b246df8f9039afb4144a1f6fd8d2ca17a180786b69acc140d282b71a49"
   }
  }
 },
 "nbformat": 4,
 "nbformat_minor": 4
}
